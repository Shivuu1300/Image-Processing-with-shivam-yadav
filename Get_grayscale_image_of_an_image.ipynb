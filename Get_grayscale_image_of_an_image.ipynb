{
  "nbformat": 4,
  "nbformat_minor": 0,
  "metadata": {
    "colab": {
      "name": "Get grayscale image of an image.ipynb",
      "provenance": [],
      "collapsed_sections": []
    },
    "kernelspec": {
      "name": "python3",
      "display_name": "Python 3"
    }
  },
  "cells": [
    {
      "cell_type": "markdown",
      "metadata": {
        "id": "EV-nqx44AImT",
        "colab_type": "text"
      },
      "source": [
        "# Using my function for converting any type of image to grayscale image\n"
      ]
    },
    {
      "cell_type": "code",
      "metadata": {
        "id": "r9VgXj__DD1Z",
        "colab_type": "code",
        "colab": {}
      },
      "source": [
        "from PIL import Image\n",
        "import numpy as np\n",
        "import matplotlib.pyplot as plt\n",
        "\n",
        "\n",
        "def RGBtoGrayscale(rgb_img):\n",
        "  rgb_weights = [0.2989,0.5870,0.1140]\n",
        "  grayscale_img = np.dot(rgb_img[...,:3],rgb_weights)\n",
        "  return grayscale_img\n",
        "\n",
        "def Shivams_gray_images(your_image):\n",
        "  if len(your_image.shape)== 2 :\n",
        "    print(\"Requirement already satisfied, your image is a grayscale image\")\n",
        "    return your_image\n",
        "  elif len(your_image.shape) > 2 and your_image.shape[2]>1:\n",
        "    if your_image.shape[2]==4:\n",
        "      rgb_version = cv2.cvtColor(your_image, cv2.COLOR_BGRA2BGR)\n",
        "      return RGBtoGrayscale(rgb_version)\n",
        "    else :\n",
        "      return  RGBtoGrayscale(your_image)\n"
      ],
      "execution_count": 0,
      "outputs": []
    },
    {
      "cell_type": "code",
      "metadata": {
        "id": "wv__jv-zKyer",
        "colab_type": "code",
        "colab": {
          "base_uri": "https://localhost:8080/",
          "height": 304
        },
        "outputId": "e6c59a41-aeb3-40e2-b410-8c0eecb3fee6"
      },
      "source": [
        "my_img = Image.open(\"/content/2.png\")\n",
        "\n",
        "my_img = np.asarray(my_img) \n",
        "\n",
        "result_img = Shivams_gray_images(my_img)\n",
        "\n",
        "plt.imshow(result_img)"
      ],
      "execution_count": 49,
      "outputs": [
        {
          "output_type": "stream",
          "text": [
            "Requirement already satisfied, your image is a grayscale image\n"
          ],
          "name": "stdout"
        },
        {
          "output_type": "execute_result",
          "data": {
            "text/plain": [
              "<matplotlib.image.AxesImage at 0x7fbc6f18a1d0>"
            ]
          },
          "metadata": {
            "tags": []
          },
          "execution_count": 49
        },
        {
          "output_type": "display_data",
          "data": {
            "image/png": "[encoded data removed]",
            "text/plain": [
              "<Figure size 432x288 with 1 Axes>"
            ]
          },
          "metadata": {
            "tags": [],
            "needs_background": "light"
          }
        }
      ]
    },
    {
      "cell_type": "code",
      "metadata": {
        "id": "1dGPaiYaM5Cf",
        "colab_type": "code",
        "colab": {
          "base_uri": "https://localhost:8080/",
          "height": 35
        },
        "outputId": "e5ae293b-5f55-4128-d67a-f6b7ba5179e6"
      },
      "source": [
        "my_img.dtype"
      ],
      "execution_count": 50,
      "outputs": [
        {
          "output_type": "execute_result",
          "data": {
            "text/plain": [
              "dtype('uint8')"
            ]
          },
          "metadata": {
            "tags": []
          },
          "execution_count": 50
        }
      ]
    },
    {
      "cell_type": "markdown",
      "metadata": {
        "id": "hWg9w9wp-s-0",
        "colab_type": "text"
      },
      "source": [
        "# Using ImageOps function from PIL for GRAYSCALE "
      ]
    },
    {
      "cell_type": "code",
      "metadata": {
        "id": "UJYiiPyKIted",
        "colab_type": "code",
        "colab": {}
      },
      "source": [
        "from PIL import Image,ImageOps\n",
        "import matplotlib.pyplot as plt\n",
        "import numpy as np"
      ],
      "execution_count": 0,
      "outputs": []
    },
    {
      "cell_type": "code",
      "metadata": {
        "id": "W8tfVN9A6wEs",
        "colab_type": "code",
        "colab": {
          "base_uri": "https://localhost:8080/",
          "height": 287
        },
        "outputId": "e1136567-afcf-4634-ba5e-946370296ab0"
      },
      "source": [
        "img = Image.open(\"/content/2.png\")\n",
        "\n",
        "plt.imshow(ImageOps.grayscale(img))"
      ],
      "execution_count": 45,
      "outputs": [
        {
          "output_type": "execute_result",
          "data": {
            "text/plain": [
              "<matplotlib.image.AxesImage at 0x7fbc6f1545f8>"
            ]
          },
          "metadata": {
            "tags": []
          },
          "execution_count": 45
        },
        {
          "output_type": "display_data",
          "data": {
            "image/png": "[encoded data removed]",
            "text/plain": [
              "<Figure size 432x288 with 1 Axes>"
            ]
          },
          "metadata": {
            "tags": [],
            "needs_background": "light"
          }
        }
      ]
    }
  ]
}